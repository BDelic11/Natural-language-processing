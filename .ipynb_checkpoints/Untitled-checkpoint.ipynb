{
 "cells": [
  {
   "cell_type": "markdown",
   "id": "3566bc23-7bfc-4ff3-a079-0f9d03dd771c",
   "metadata": {},
   "source": [
    "# Statističke metode obrade prirodnog jezika\n",
    "\n",
    "* algoritam k-sredina\n",
    "* algoritam očekivanja-maksimizacije\n",
    "* načelo maksimalne entropije\n",
    "* latentno semantičko indeksiranje\n",
    "* skriveni Markovljevi modeli\n",
    "* uvjetna slučajna polja\n",
    "* algoritam stroja potpornih vektora\n",
    "* linearna regresija\n",
    "  \n",
    "### Strojno učenje (eng. machine learning)\n",
    "\n",
    "je dio umjetne inteligencije pomoću kojega se nastoje razviti algoritmi koji bi\n",
    "imali sposobnost samostalnog učenja.\n",
    "\n",
    "* nadzirano učenje (eng. supervised learning): algoritmi uče na temelju označenih podataka, obuhvaća klasifikaciju i regresiju.,\n",
    "* nenadzirano učenje (eng. unsupervised learning),\n",
    "* polunadzirano učenje (eng. semi-supervised learning),\n",
    "* pojačano učenje (eng. reinforcement learning)\n"
   ]
  }
 ],
 "metadata": {
  "kernelspec": {
   "display_name": "Python (NLP)",
   "language": "python",
   "name": "nlp"
  },
  "language_info": {
   "codemirror_mode": {
    "name": "ipython",
    "version": 3
   },
   "file_extension": ".py",
   "mimetype": "text/x-python",
   "name": "python",
   "nbconvert_exporter": "python",
   "pygments_lexer": "ipython3",
   "version": "3.13.3"
  }
 },
 "nbformat": 4,
 "nbformat_minor": 5
}
